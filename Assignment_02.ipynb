{
  "nbformat": 4,
  "nbformat_minor": 0,
  "metadata": {
    "colab": {
      "provenance": []
    },
    "kernelspec": {
      "name": "python3",
      "display_name": "Python 3"
    },
    "language_info": {
      "name": "python"
    }
  },
  "cells": [
    {
      "cell_type": "markdown",
      "source": [
        " 1. What are data structures, and why are they important?\n",
        "\n",
        "Answer 1. Data Structures are ways to organize and store data efficiently for easy access and modification.\n",
        " Importance:- Improve performance of programs.- Help in organizing and managing data.- Used in algorithms and real-world applications like databases, networking, etc.\n",
        "\n",
        "\n",
        " 2. Explain the difference between mutable and immutable data types with examples.\n",
        "\n",
        "Answer 2. Mutable: Can be changed after creation.\n",
        "  Example: list, dict, set\n",
        "  my_list = [1, 2]\n",
        "  my_list.append(3)\n",
        " Immutable: Cannot be changed after creation.\n",
        "  Example: int, str, tuple\n",
        "  my_str = 'hello' (Cannot modify individual characters)\n",
        "\n",
        "\n",
        " 3. What are the main differences between lists and tuples in Python?\n",
        "\n",
        "  Answer 3. List: Mutable, slower, written as [1,2,3].\n",
        " Tuple: Immutable, faster, written as (1,2,3).\n",
        "\n",
        "\n",
        " 4. Describe how dictionaries store data.\n",
        "\n",
        " Answer 4. Dictionaries store data in key-value pairs using a hash table.\n",
        " Example: {'name': 'John', 'age': 20}\n",
        "\n",
        "\n",
        " 5. Why might you use a set instead of a list in Python?\n",
        "\n",
        "Answer 5. Sets remove duplicates automatically and have faster lookup than lists.\n",
        "\n",
        "\n",
        " 6. What is a string in Python, and how is it different from a list?\n",
        "\n",
        " Answer 6 .String: sequence of characters, immutable.\n",
        "Data Types and Structures - Theory Questions (Python)\n",
        " List: sequence of any data types, mutable.\n",
        "\n",
        "\n",
        " 7. How do tuples ensure data integrity in Python?\n",
        "\n",
        " Answer 7. Tuples are immutable, which prevents accidental changes.\n",
        "\n",
        "\n",
        " 8. What is a hash table, and how does it relate to dictionaries in Python?\n",
        "\n",
        " Answer 8 .  A hash table stores key-value pairs. Python dictionaries use hash tables internally.\n",
        "\n",
        "\n",
        " 9. Can lists contain different data types in Python?\n",
        "\n",
        "Answer 9. Yes, a list can hold mixed data types, e.g., [1, 'a', True].\n",
        "\n",
        "\n",
        " 10. Explain why strings are immutable in Python.\n",
        "\n",
        "Answer 10.  To improve performance, memory usage, and safety in multi-threaded applications.\n",
        "\n",
        "\n",
        " 11. What advantages do dictionaries offer over lists for certain tasks?\n",
        "\n",
        " Answer 11 . Dictionaries allow faster access with keys, more readable, and support structured data.\n",
        "\n",
        "\n",
        " 12. Describe a scenario where using a tuple would be preferable over a list.?\n",
        "\n",
        " Answer 12 . When data must not change, like storing coordinates (x, y).\n",
        "\n",
        "\n",
        " 13. How do sets handle duplicate values in Python?\n",
        "\n",
        "Answer 13 . Sets automatically remove duplicate values.\n",
        "\n",
        "\n",
        " 14. How does the in keyword work differently for lists and dictionaries?\n",
        " Answer 14 . Lists: checks values. Dicts: checks keys.\n",
        "\n",
        "\n",
        " 15. Can you modify the elements of a tuple? Explain why or why not.?\n",
        "\n",
        "  Answer 15 .  No, because tuples are immutable.\n",
        "Data Types and Structures - Theory Questions (Python)\n",
        "\n",
        "\n",
        " 16. What is a nested dictionary, and give an example of its use case.?\n",
        "\n",
        " Answer 16 .A dictionary inside another dictionary.\n",
        " Example: {'student': {'name': 'John', 'marks': 90}}\n",
        "\n",
        "\n",
        " 17. Describe the time complexity of accessing elements in a dictionary.?\n",
        "\n",
        "Answer 17 . Average: O(1), Worst-case: O(n) (in case of hash collisions).\n",
        "\n",
        "\n",
        " 18. In what situations are lists preferred over dictionaries?\n",
        "\n",
        " Answer 18 . When only ordered data is needed and no key-value mapping is required.\n",
        "\n",
        "\n",
        " 19. Why are dictionaries considered unordered, and how does that affect data retrieval?\n",
        "\n",
        "Answer 19 . Before Python 3.7, dicts were unordered. From 3.7+, insertion order is preserved but you still access by key.\n",
        "\n",
        "\n",
        " 20. Explain the difference between a list and a dictionary in terms of data retrieval.?\n",
        "\n",
        " Answer 20 .List: accessed by index (e.g., list[0]).\n",
        " Dictionary: accessed by key (e.g., dict['name'])."
      ],
      "metadata": {
        "id": "ti8G3sZc0Pg1"
      }
    },
    {
      "cell_type": "markdown",
      "source": [],
      "metadata": {
        "id": "E4O8AySO2C1M"
      }
    },
    {
      "cell_type": "code",
      "source": [
        " #1. Write a code to create a string with your name and print it?\n",
        " name = 'Zakariya'\n",
        " print(name)\n",
        "\n"
      ],
      "metadata": {
        "colab": {
          "base_uri": "https://localhost:8080/"
        },
        "id": "DpK-AW141-gI",
        "outputId": "3e435638-02e4-4bcd-b37a-b2617c69309d"
      },
      "execution_count": 12,
      "outputs": [
        {
          "output_type": "stream",
          "name": "stdout",
          "text": [
            "Zakariya\n"
          ]
        }
      ]
    },
    {
      "cell_type": "code",
      "source": [
        "# 2. Write a code to find the length of the string 'Hello World'\n",
        "s = \"Hello World\"\n",
        "print(len(s))"
      ],
      "metadata": {
        "colab": {
          "base_uri": "https://localhost:8080/"
        },
        "id": "qlO5wSYW262E",
        "outputId": "872f9241-97ce-4e39-9a84-1784c9b64fb3"
      },
      "execution_count": 4,
      "outputs": [
        {
          "output_type": "stream",
          "name": "stdout",
          "text": [
            "11\n"
          ]
        }
      ]
    },
    {
      "cell_type": "code",
      "source": [
        "#3. Write a code to slice the first 3 characters from the string 'Python Programming'\n",
        "s = \"Python Program\"\n",
        "print(s[:3])"
      ],
      "metadata": {
        "colab": {
          "base_uri": "https://localhost:8080/"
        },
        "id": "lENoFd_R4oqz",
        "outputId": "f3911ee3-8c53-4d4b-b097-544ebfe85459"
      },
      "execution_count": 11,
      "outputs": [
        {
          "output_type": "stream",
          "name": "stdout",
          "text": [
            "Pyt\n"
          ]
        }
      ]
    },
    {
      "cell_type": "code",
      "source": [
        " #4. Write a code to convert the string 'hello' to uppercase\n",
        "s = 'hello'\n",
        "print(s.upper())"
      ],
      "metadata": {
        "colab": {
          "base_uri": "https://localhost:8080/"
        },
        "id": "T_pHBzTw6wiJ",
        "outputId": "f0baa682-e12a-4dbf-b0aa-16825a90ce3c"
      },
      "execution_count": 13,
      "outputs": [
        {
          "output_type": "stream",
          "name": "stdout",
          "text": [
            "HELLO\n"
          ]
        }
      ]
    },
    {
      "cell_type": "code",
      "source": [
        "#5. Write a code to replace the word 'apple' with 'orange' in the string 'I like apple\n",
        "s = 'I like apple'\n",
        "print(s.replace('apple', 'orange'))"
      ],
      "metadata": {
        "colab": {
          "base_uri": "https://localhost:8080/"
        },
        "id": "_SjdQxba7zVS",
        "outputId": "78b1f0bb-276a-4925-c0fd-8fd364ce6437"
      },
      "execution_count": 16,
      "outputs": [
        {
          "output_type": "stream",
          "name": "stdout",
          "text": [
            "I like orange\n"
          ]
        }
      ]
    },
    {
      "cell_type": "code",
      "source": [
        "# 6. Write a code to create a list with numbers 1 to 5 and print it\n",
        "numbers = [1, 2, 3, 4, 5]\n",
        "print(numbers)"
      ],
      "metadata": {
        "colab": {
          "base_uri": "https://localhost:8080/"
        },
        "id": "TIFyT9pA82IT",
        "outputId": "dfabbd0b-7128-4564-f412-1683f511684f"
      },
      "execution_count": 17,
      "outputs": [
        {
          "output_type": "stream",
          "name": "stdout",
          "text": [
            "[1, 2, 3, 4, 5]\n"
          ]
        }
      ]
    },
    {
      "cell_type": "code",
      "source": [
        "# 7. Write a code to append the number 10 to the list [1, 2, 3, 4]\n",
        "numbers = [1, 2, 3, 4]\n",
        "numbers.append(10)\n",
        "print(numbers)\n"
      ],
      "metadata": {
        "colab": {
          "base_uri": "https://localhost:8080/"
        },
        "id": "dQwWX8Zx9KTD",
        "outputId": "06322479-2bea-484c-91e4-265cb1b9acf9"
      },
      "execution_count": 18,
      "outputs": [
        {
          "output_type": "stream",
          "name": "stdout",
          "text": [
            "[1, 2, 3, 4, 10]\n"
          ]
        }
      ]
    },
    {
      "cell_type": "code",
      "source": [
        " #8. Write a code to remove the number 3 from the list [1, 2, 3, 4, 5]\n",
        "numbers = [1, 2, 3, 4, 5]\n",
        "numbers.remove(3)\n",
        "print(numbers)"
      ],
      "metadata": {
        "colab": {
          "base_uri": "https://localhost:8080/"
        },
        "id": "VFsnSbxu9emH",
        "outputId": "9869367d-dd77-4e5f-a427-178701530f94"
      },
      "execution_count": 19,
      "outputs": [
        {
          "output_type": "stream",
          "name": "stdout",
          "text": [
            "[1, 2, 4, 5]\n"
          ]
        }
      ]
    },
    {
      "cell_type": "code",
      "source": [
        "#9. Write a code to access the second element in the list ['a', 'b', 'c', 'd']\n",
        "letters = ['a', 'b', 'c', 'd']\n",
        "print(letters[1])"
      ],
      "metadata": {
        "colab": {
          "base_uri": "https://localhost:8080/"
        },
        "id": "1i6fgEv49vgD",
        "outputId": "d7a251a6-1935-497d-83db-77ce55ed9b11"
      },
      "execution_count": 20,
      "outputs": [
        {
          "output_type": "stream",
          "name": "stdout",
          "text": [
            "b\n"
          ]
        }
      ]
    },
    {
      "cell_type": "code",
      "source": [
        " #10. Write a code to reverse the list [10, 20, 30, 40, 50]\n",
        "numbers = [10, 20, 30, 40, 50]\n",
        "numbers.reverse()\n",
        "print(numbers)"
      ],
      "metadata": {
        "colab": {
          "base_uri": "https://localhost:8080/"
        },
        "id": "7Clu_zg_-I7n",
        "outputId": "db760cb9-6024-445f-c0d4-65fe6f949a69"
      },
      "execution_count": 21,
      "outputs": [
        {
          "output_type": "stream",
          "name": "stdout",
          "text": [
            "[50, 40, 30, 20, 10]\n"
          ]
        }
      ]
    },
    {
      "cell_type": "code",
      "source": [
        " #11. Write a code to create a tuple with the elements 100, 200, 300 and print it\n",
        "t = (100, 200, 300)\n",
        "print(t)"
      ],
      "metadata": {
        "colab": {
          "base_uri": "https://localhost:8080/"
        },
        "id": "OrlA5pAa-UpH",
        "outputId": "80b09722-4a76-4206-c4c9-050f336d30da"
      },
      "execution_count": 22,
      "outputs": [
        {
          "output_type": "stream",
          "name": "stdout",
          "text": [
            "(100, 200, 300)\n"
          ]
        }
      ]
    },
    {
      "cell_type": "code",
      "source": [
        " #12. Write a code to access the second-to-last element of the tuple ('red', 'green', 'blue','yellow')\n",
        "colors = ('red', 'green', 'blue', 'yellow')\n",
        "print(colors[-2])"
      ],
      "metadata": {
        "colab": {
          "base_uri": "https://localhost:8080/"
        },
        "id": "NoGC-y1j-foA",
        "outputId": "ff83eaa5-a775-4e22-c890-79c4086f6ae1"
      },
      "execution_count": 26,
      "outputs": [
        {
          "output_type": "stream",
          "name": "stdout",
          "text": [
            "blue\n"
          ]
        }
      ]
    },
    {
      "cell_type": "code",
      "source": [
        " #13. Write a code to find the minimum number in the tuple (10, 20, 5, 15)\n",
        "t = (10, 20, 5, 15)\n",
        "print(min(t))"
      ],
      "metadata": {
        "colab": {
          "base_uri": "https://localhost:8080/"
        },
        "id": "DCrWuobw_NPa",
        "outputId": "193add42-8126-401e-d929-33868cc15951"
      },
      "execution_count": 27,
      "outputs": [
        {
          "output_type": "stream",
          "name": "stdout",
          "text": [
            "5\n"
          ]
        }
      ]
    },
    {
      "cell_type": "code",
      "source": [
        " #14. Write a code to find the index of the element 'cat' in the tuple ('dog', 'cat', 'rabbit')\n",
        "animals = ('dog', 'cat', 'rabbit')\n",
        "print(animals.index('cat'))\n"
      ],
      "metadata": {
        "colab": {
          "base_uri": "https://localhost:8080/"
        },
        "id": "c_zA_Mll_hjg",
        "outputId": "24340b65-539a-4227-f581-8732c3ae136a"
      },
      "execution_count": 28,
      "outputs": [
        {
          "output_type": "stream",
          "name": "stdout",
          "text": [
            "1\n"
          ]
        }
      ]
    },
    {
      "cell_type": "code",
      "source": [
        " #15. Write a code to create a tuple containing three different fruits and check if 'kiwi' is in it\n",
        "fruits = ('apple', 'banana', 'mango')\n",
        "print('kiwi' in fruits)"
      ],
      "metadata": {
        "colab": {
          "base_uri": "https://localhost:8080/"
        },
        "id": "F9xIdg21AVgH",
        "outputId": "9b8bb8e0-00b0-418d-cc12-8e3c1116edaa"
      },
      "execution_count": 29,
      "outputs": [
        {
          "output_type": "stream",
          "name": "stdout",
          "text": [
            "False\n"
          ]
        }
      ]
    },
    {
      "cell_type": "code",
      "source": [
        "#16. Write a code to create a set with the elements 'a', 'b', 'c' and print it\n",
        "s = {'a', 'b', 'c'}\n",
        "print(s)"
      ],
      "metadata": {
        "colab": {
          "base_uri": "https://localhost:8080/"
        },
        "id": "-DdfLjdFAtCg",
        "outputId": "0beea899-5d10-481e-d265-ea6de6b92afa"
      },
      "execution_count": 31,
      "outputs": [
        {
          "output_type": "stream",
          "name": "stdout",
          "text": [
            "{'b', 'c', 'a'}\n"
          ]
        }
      ]
    },
    {
      "cell_type": "code",
      "source": [
        "#17. Write a code to clear all elements from the set {1, 2, 3, 4, 5}\n",
        "s = {1, 2, 3, 4, 5}\n",
        "s.clear()\n",
        "print(s)"
      ],
      "metadata": {
        "colab": {
          "base_uri": "https://localhost:8080/"
        },
        "id": "nVDUpu6hBhDd",
        "outputId": "7d75adcf-7277-4134-ae56-403e2cb0aba5"
      },
      "execution_count": 32,
      "outputs": [
        {
          "output_type": "stream",
          "name": "stdout",
          "text": [
            "set()\n"
          ]
        }
      ]
    },
    {
      "cell_type": "code",
      "source": [
        " #18. Write a code to remove the element 4 from the set {1, 2, 3, 4}\n",
        "s = {1, 2, 3, 4}\n",
        "s.remove(4)\n",
        "print(s)"
      ],
      "metadata": {
        "colab": {
          "base_uri": "https://localhost:8080/"
        },
        "id": "afnFdd1_CDhH",
        "outputId": "513c2249-be50-452c-e14d-6db0ea737d4b"
      },
      "execution_count": 33,
      "outputs": [
        {
          "output_type": "stream",
          "name": "stdout",
          "text": [
            "{1, 2, 3}\n"
          ]
        }
      ]
    },
    {
      "cell_type": "code",
      "source": [
        "#19. Write a code to find the union of two sets {1, 2, 3} and {3, 4, 5}\n",
        "a = {1, 2, 3}\n",
        "b = {3, 4, 5}\n",
        "print(a.union(b))"
      ],
      "metadata": {
        "colab": {
          "base_uri": "https://localhost:8080/"
        },
        "id": "2BUj5t3MCjvO",
        "outputId": "4c834a05-6339-4c7a-9afb-d229c61aae89"
      },
      "execution_count": 34,
      "outputs": [
        {
          "output_type": "stream",
          "name": "stdout",
          "text": [
            "{1, 2, 3, 4, 5}\n"
          ]
        }
      ]
    },
    {
      "cell_type": "code",
      "source": [
        "#20. Write a code to find the intersection of two sets {1, 2, 3} and {2, 3, 4}\n",
        "a = {1, 2, 3}\n",
        "b = {2, 3, 4}\n",
        "print(a.intersection(b))"
      ],
      "metadata": {
        "colab": {
          "base_uri": "https://localhost:8080/"
        },
        "id": "LVIPdaDkCwFL",
        "outputId": "29b43524-d3a3-4342-d9e2-5eb090f66f54"
      },
      "execution_count": 40,
      "outputs": [
        {
          "output_type": "stream",
          "name": "stdout",
          "text": [
            "{2, 3}\n"
          ]
        }
      ]
    },
    {
      "cell_type": "code",
      "source": [
        "#21. Write a code to create a dictionary with the keys 'name', 'age', and 'city', and print it\n",
        "person = {'name': 'John', 'age': 25, 'city': 'Delhi'}\n",
        "print(person)"
      ],
      "metadata": {
        "colab": {
          "base_uri": "https://localhost:8080/"
        },
        "id": "qbcDR3GSEpPL",
        "outputId": "fd1e9068-56e3-40f8-9e96-694ef1e0af07"
      },
      "execution_count": 42,
      "outputs": [
        {
          "output_type": "stream",
          "name": "stdout",
          "text": [
            "{'name': 'John', 'age': 25, 'city': 'Delhi'}\n"
          ]
        }
      ]
    },
    {
      "cell_type": "code",
      "source": [
        "#22. Write a code to add a new key-value pair 'country': 'USA' to the dictionary {'name': 'John', 'age': 25}\n",
        "person = {'name': 'John', 'age': 25}\n",
        "person['country'] = 'USA'\n",
        "print(person)"
      ],
      "metadata": {
        "colab": {
          "base_uri": "https://localhost:8080/"
        },
        "id": "YsEeUqdWFDYQ",
        "outputId": "caf21ca5-aab7-49e8-b3a8-46509aa1d3a6"
      },
      "execution_count": 45,
      "outputs": [
        {
          "output_type": "stream",
          "name": "stdout",
          "text": [
            "{'name': 'John', 'age': 25, 'country': 'USA'}\n"
          ]
        }
      ]
    },
    {
      "cell_type": "code",
      "source": [
        "# 23. Write a code to access the value associated with the key 'name' in the dictionary {'name': 'Alice', 'age': 30}\n",
        "person = {'name': 'Alice', 'age': 30}\n",
        "print(person['name'])"
      ],
      "metadata": {
        "colab": {
          "base_uri": "https://localhost:8080/"
        },
        "id": "DJd1MkrtFVbd",
        "outputId": "22f5a12c-6baf-4402-df0a-2743e077e579"
      },
      "execution_count": 46,
      "outputs": [
        {
          "output_type": "stream",
          "name": "stdout",
          "text": [
            "Alice\n"
          ]
        }
      ]
    },
    {
      "cell_type": "code",
      "source": [
        "#24. Write a code to remove the key 'age' from the dictionary {'name': 'Bob', 'age': 22, 'city': 'New York'}\n",
        "person = {'name': 'Bob', 'age': 22, 'city': 'New York'}\n",
        "del person['age']\n",
        "print(person)"
      ],
      "metadata": {
        "colab": {
          "base_uri": "https://localhost:8080/"
        },
        "id": "8EoX4VvFFrZt",
        "outputId": "c78d632c-0ba1-4482-e9f7-e0a72e835835"
      },
      "execution_count": 48,
      "outputs": [
        {
          "output_type": "stream",
          "name": "stdout",
          "text": [
            "{'name': 'Bob', 'city': 'New York'}\n"
          ]
        }
      ]
    },
    {
      "cell_type": "code",
      "source": [
        "#25. Write a code to check if the key 'city' exists in the dictionary {'name': 'Alice', 'city': 'Paris'}\n",
        "person = {'name': 'Alice', 'city': 'Paris'}\n",
        "print('city' in person)"
      ],
      "metadata": {
        "colab": {
          "base_uri": "https://localhost:8080/"
        },
        "id": "3AEIyv_wF5x3",
        "outputId": "d290b3e8-2db3-496b-ceef-1f5f365e9b1c"
      },
      "execution_count": 49,
      "outputs": [
        {
          "output_type": "stream",
          "name": "stdout",
          "text": [
            "True\n"
          ]
        }
      ]
    },
    {
      "cell_type": "code",
      "source": [
        " #26. Write a code to create a list, a tuple, and a dictionary, and print them all\n",
        "my_list = [1, 2, 3]\n",
        "my_tuple = (4, 5, 6)\n",
        "my_dict = {'a': 1, 'b': 2}\n",
        "print(my_list)\n",
        "print(my_tuple)\n",
        "print(my_dict)\n"
      ],
      "metadata": {
        "colab": {
          "base_uri": "https://localhost:8080/"
        },
        "id": "7Ixpk_ORGG7X",
        "outputId": "87ce08a1-b828-4edf-f246-0201262b72c3"
      },
      "execution_count": 50,
      "outputs": [
        {
          "output_type": "stream",
          "name": "stdout",
          "text": [
            "[1, 2, 3]\n",
            "(4, 5, 6)\n",
            "{'a': 1, 'b': 2}\n"
          ]
        }
      ]
    },
    {
      "cell_type": "code",
      "source": [
        " #27. Write a code to create a list of 5 random numbers between 1 and 100, sort it in ascending order, and print the result.\n",
        "import random\n",
        "numbers = random.sample(range(1, 101), 5)\n",
        "numbers.sort()\n",
        "print(numbers)"
      ],
      "metadata": {
        "colab": {
          "base_uri": "https://localhost:8080/"
        },
        "id": "DgclwpDPGLwU",
        "outputId": "cd2d1000-73b1-47b0-ac4b-d6f2b77f73d1"
      },
      "execution_count": 52,
      "outputs": [
        {
          "output_type": "stream",
          "name": "stdout",
          "text": [
            "[31, 37, 48, 57, 75]\n"
          ]
        }
      ]
    },
    {
      "cell_type": "code",
      "source": [
        " #28. Write a code to create a list with strings and print the element at the third index\n",
        "words = ['apple', 'banana', 'cherry', 'date', 'elderberry']\n",
        "print(words[3])"
      ],
      "metadata": {
        "colab": {
          "base_uri": "https://localhost:8080/"
        },
        "id": "bTuH9SBWGwyd",
        "outputId": "70e7851f-c2e6-4bce-9d99-4dc9b2f69539"
      },
      "execution_count": 53,
      "outputs": [
        {
          "output_type": "stream",
          "name": "stdout",
          "text": [
            "date\n"
          ]
        }
      ]
    },
    {
      "cell_type": "code",
      "source": [
        "#29. Write a code to combine two dictionaries into one and print the result\n",
        "a = {'x': 1, 'y': 2}\n",
        "b = {'z': 3}\n",
        "a.update(b)\n",
        "print(a)"
      ],
      "metadata": {
        "colab": {
          "base_uri": "https://localhost:8080/"
        },
        "id": "yHkhgp7GG4Uk",
        "outputId": "014edaa3-e8ae-4cf6-b3b6-dddfe2aab691"
      },
      "execution_count": 54,
      "outputs": [
        {
          "output_type": "stream",
          "name": "stdout",
          "text": [
            "{'x': 1, 'y': 2, 'z': 3}\n"
          ]
        }
      ]
    },
    {
      "cell_type": "code",
      "source": [
        " #30. Write a code to convert a list of strings into a set\n",
        "words = ['apple', 'banana', 'apple']\n",
        "unique_words = set(words)\n",
        "print(unique_words)"
      ],
      "metadata": {
        "colab": {
          "base_uri": "https://localhost:8080/"
        },
        "id": "ctokqUf4HAaD",
        "outputId": "ac9ce64d-2d08-4e46-e28a-ea8dc2c5ce34"
      },
      "execution_count": 55,
      "outputs": [
        {
          "output_type": "stream",
          "name": "stdout",
          "text": [
            "{'banana', 'apple'}\n"
          ]
        }
      ]
    }
  ]
}